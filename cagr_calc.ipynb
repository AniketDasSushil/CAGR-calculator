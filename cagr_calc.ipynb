{
 "cells": [
  {
   "cell_type": "code",
   "execution_count": 2,
   "id": "ec49678e-9616-4786-b812-1a7eef05f347",
   "metadata": {},
   "outputs": [],
   "source": [
    "import pandas as pd \n",
    "import numpy as np\n",
    "import yfinance as yf\n",
    "import matplotlib.pyplot as plt"
   ]
  },
  {
   "cell_type": "code",
   "execution_count": 3,
   "id": "7d99a68c-d14d-4f30-b4b4-bb2401a1b547",
   "metadata": {},
   "outputs": [],
   "source": [
    "nifty = ['^nsei']\n",
    "ticker = ['tcs.ns','nestleind.ns','reliance.ns','bhartiartl.ns','sbin.ns','hdfc.ns','wipro.ns','adanient.ns']"
   ]
  },
  {
   "cell_type": "code",
   "execution_count": 4,
   "id": "fe588a2a-143e-4bef-a5b9-2fd0374a3f41",
   "metadata": {},
   "outputs": [
    {
     "name": "stdout",
     "output_type": "stream",
     "text": [
      "[*********************100%***********************]  1 of 1 completed\n"
     ]
    }
   ],
   "source": [
    "market = yf.download(nifty,period='10y')['Adj Close']"
   ]
  },
  {
   "cell_type": "code",
   "execution_count": 5,
   "id": "2651cf74-8d74-4ab7-8dde-5039df0d9dd6",
   "metadata": {},
   "outputs": [
    {
     "name": "stdout",
     "output_type": "stream",
     "text": [
      "[*********************100%***********************]  8 of 8 completed\n"
     ]
    }
   ],
   "source": [
    "stocks = yf.download(ticker,period='10y')['Adj Close']"
   ]
  },
  {
   "cell_type": "code",
   "execution_count": 6,
   "id": "5c136a8b-dc85-4136-a664-cea9b907f65a",
   "metadata": {},
   "outputs": [],
   "source": [
    "cagr = []\n",
    "for k in stocks.columns:\n",
    "    cagr_i = (((stocks[k][-1]/stocks[k][0])**(1/10))-1)*100\n",
    "    cagr_i = round(cagr_i,2)\n",
    "    cagr.append([k,cagr_i])\n",
    "    "
   ]
  },
  {
   "cell_type": "code",
   "execution_count": 7,
   "id": "b3887559-feb2-4dc7-a03d-ab3d214cdc05",
   "metadata": {},
   "outputs": [],
   "source": [
    "cagr = pd.DataFrame(cagr)"
   ]
  },
  {
   "cell_type": "code",
   "execution_count": 8,
   "id": "7710a51b-f09d-47fb-be90-7894733f39ea",
   "metadata": {},
   "outputs": [
    {
     "data": {
      "text/html": [
       "<div>\n",
       "<style scoped>\n",
       "    .dataframe tbody tr th:only-of-type {\n",
       "        vertical-align: middle;\n",
       "    }\n",
       "\n",
       "    .dataframe tbody tr th {\n",
       "        vertical-align: top;\n",
       "    }\n",
       "\n",
       "    .dataframe thead th {\n",
       "        text-align: right;\n",
       "    }\n",
       "</style>\n",
       "<table border=\"1\" class=\"dataframe\">\n",
       "  <thead>\n",
       "    <tr style=\"text-align: right;\">\n",
       "      <th></th>\n",
       "      <th>0</th>\n",
       "      <th>1</th>\n",
       "    </tr>\n",
       "  </thead>\n",
       "  <tbody>\n",
       "    <tr>\n",
       "      <th>0</th>\n",
       "      <td>ADANIENT.NS</td>\n",
       "      <td>42.27</td>\n",
       "    </tr>\n",
       "    <tr>\n",
       "      <th>1</th>\n",
       "      <td>BHARTIARTL.NS</td>\n",
       "      <td>8.75</td>\n",
       "    </tr>\n",
       "    <tr>\n",
       "      <th>2</th>\n",
       "      <td>HDFC.NS</td>\n",
       "      <td>15.70</td>\n",
       "    </tr>\n",
       "    <tr>\n",
       "      <th>3</th>\n",
       "      <td>NESTLEIND.NS</td>\n",
       "      <td>17.31</td>\n",
       "    </tr>\n",
       "    <tr>\n",
       "      <th>4</th>\n",
       "      <td>RELIANCE.NS</td>\n",
       "      <td>20.54</td>\n",
       "    </tr>\n",
       "    <tr>\n",
       "      <th>5</th>\n",
       "      <td>SBIN.NS</td>\n",
       "      <td>11.34</td>\n",
       "    </tr>\n",
       "    <tr>\n",
       "      <th>6</th>\n",
       "      <td>TCS.NS</td>\n",
       "      <td>23.24</td>\n",
       "    </tr>\n",
       "    <tr>\n",
       "      <th>7</th>\n",
       "      <td>WIPRO.NS</td>\n",
       "      <td>14.82</td>\n",
       "    </tr>\n",
       "  </tbody>\n",
       "</table>\n",
       "</div>"
      ],
      "text/plain": [
       "               0      1\n",
       "0    ADANIENT.NS  42.27\n",
       "1  BHARTIARTL.NS   8.75\n",
       "2        HDFC.NS  15.70\n",
       "3   NESTLEIND.NS  17.31\n",
       "4    RELIANCE.NS  20.54\n",
       "5        SBIN.NS  11.34\n",
       "6         TCS.NS  23.24\n",
       "7       WIPRO.NS  14.82"
      ]
     },
     "execution_count": 8,
     "metadata": {},
     "output_type": "execute_result"
    }
   ],
   "source": [
    "cagr"
   ]
  },
  {
   "cell_type": "code",
   "execution_count": null,
   "id": "4b49dbdd-64d1-408e-95f4-6fe7d32e1e75",
   "metadata": {},
   "outputs": [],
   "source": []
  }
 ],
 "metadata": {
  "kernelspec": {
   "display_name": "Python 3 (ipykernel)",
   "language": "python",
   "name": "python3"
  },
  "language_info": {
   "codemirror_mode": {
    "name": "ipython",
    "version": 3
   },
   "file_extension": ".py",
   "mimetype": "text/x-python",
   "name": "python",
   "nbconvert_exporter": "python",
   "pygments_lexer": "ipython3",
   "version": "3.7.3"
  }
 },
 "nbformat": 4,
 "nbformat_minor": 5
}
